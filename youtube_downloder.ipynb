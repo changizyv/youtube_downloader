{
  "nbformat": 4,
  "nbformat_minor": 0,
  "metadata": {
    "colab": {
      "provenance": []
    },
    "kernelspec": {
      "name": "python3",
      "display_name": "Python 3"
    },
    "language_info": {
      "name": "python"
    }
  },
  "cells": [
    {
      "cell_type": "markdown",
      "source": [
        "## **دانلود ویدئو تکی از یوتیوب بدون نیاز به فیلترشکن با انتخاب  مقدار کیفیت فایل خروجی**"
      ],
      "metadata": {
        "id": "TSdtyQcr-MWC"
      }
    },
    {
      "cell_type": "code",
      "execution_count": null,
      "metadata": {
        "id": "hs__oeI35HW8"
      },
      "outputs": [],
      "source": [
        "# دانلود ویدئوی تکی از یوتیوب\n",
        "!pip install pytube\n",
        "\n",
        "from pytube import YouTube\n",
        "# لینک ویدئو را وارد کنید\n",
        "video_url = input(\"insert video youtube link:\")\n",
        "res = input (\"input resoletion as 480p or 720p\")\n",
        "# ایجاد شیء YouTube با استفاده از لینک\n",
        "yt = YouTube(video_url)\n",
        "\n",
        "# انتخاب فرمت دلخواه (مثلاً mp4 با کیفیت بالا)\n",
        "video_stream = yt.streams.filter(file_extension=\"mp4\", res=f'{res}').first()\n",
        "\n",
        "# دانلود ویدئو\n",
        "video_stream.download(output_path=\"/content/out_video\")\n"
      ]
    },
    {
      "cell_type": "markdown",
      "source": [
        "## **دانلود ویدئوهای پلی لیست به صورت یکجا از یوتیوب بدون نیاز به فیلترشکن**\n"
      ],
      "metadata": {
        "id": "ZCOySCJW9m5I"
      }
    },
    {
      "cell_type": "code",
      "source": [
        "# دانلود ویدئوهای پلی لیست به صورت یکجااز یوتیوب\n",
        "!pip install pytube\n",
        "from pytube import Playlist\n",
        "\n",
        "# لینک لیست پخش را وارد کنید\n",
        "playlist_url =  input(\"insert PLAY LIST video youtube link:\")\n",
        "\n",
        "# ایجاد شیء Playlist با استفاده از لینک\n",
        "playlist = Playlist(playlist_url)\n",
        "\n",
        "# دانلود تمام ویدئوهای لیست پخش\n",
        "for video in playlist.videos:\n",
        "    video.streams.get_highest_resolution().download(output_path=\"/content/out_videos\")\n"
      ],
      "metadata": {
        "id": "QtDWAILU9GoL"
      },
      "execution_count": null,
      "outputs": []
    }
  ]
}